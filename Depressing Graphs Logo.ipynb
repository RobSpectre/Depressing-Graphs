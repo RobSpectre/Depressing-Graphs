{
 "metadata": {
  "name": ""
 },
 "nbformat": 3,
 "nbformat_minor": 0,
 "worksheets": [
  {
   "cells": [
    {
     "cell_type": "markdown",
     "metadata": {},
     "source": [
      "## Depressing Graphs Logo"
     ]
    },
    {
     "cell_type": "code",
     "collapsed": false,
     "input": [
      "import matplotlib.pyplot as plt\n",
      "\n",
      "%pylab inline\n",
      "\n",
      "x = arange(0.3, 2.9, 0.1)\n",
      "y = sin(x)\n",
      "\n",
      "plt.figure(num=None, figsize=(4, 4))\n",
      "plt.plot(x, y)\n",
      "plt.plot(1, 3)\n",
      "plt.plot(-1, -1)\n",
      "plt.plot(4, -1)\n",
      "plt.plot(1, 2, 'b.', markersize=20.0)\n",
      "plt.plot(2, 2, 'b.', markersize=20.0)\n",
      "plt.grid(b=True, which='both', color='0.65',linestyle='-')\n",
      "\n",
      "plt.show()"
     ],
     "language": "python",
     "metadata": {},
     "outputs": [
      {
       "output_type": "stream",
       "stream": "stdout",
       "text": [
        "Populating the interactive namespace from numpy and matplotlib\n"
       ]
      },
      {
       "metadata": {},
       "output_type": "display_data",
       "png": "[encoded data removed]",
       "text": [
        "<matplotlib.figure.Figure at 0x2bfb750>"
       ]
      }
     ],
     "prompt_number": 51
    }
   ],
   "metadata": {}
  }
 ]
}