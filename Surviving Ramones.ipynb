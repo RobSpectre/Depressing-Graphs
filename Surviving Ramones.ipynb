{
 "metadata": {
  "name": ""
 },
 "nbformat": 3,
 "nbformat_minor": 0,
 "worksheets": [
  {
   "cells": [
    {
     "cell_type": "markdown",
     "metadata": {},
     "source": [
      "## Number of Original Surviving Ramones"
     ]
    },
    {
     "cell_type": "code",
     "collapsed": false,
     "input": [
      "columns = ['Dee Dee', 'Johnny', 'Joey', 'Tommy', 'Marky']\n",
      "\n",
      "birth_years = [1951, 1948, 1951, 1951, 1956]\n",
      "death_years = [2002, 2004, 2001, None, None]"
     ],
     "language": "python",
     "metadata": {},
     "outputs": [],
     "prompt_number": 3
    },
    {
     "cell_type": "code",
     "collapsed": false,
     "input": [
      "import datetime\n",
      "from pandas import Series\n",
      "from pandas import DataFrame\n",
      "from pandas import date_range\n",
      "\n",
      "todays_date = datetime.datetime.now().date()\n",
      "index = date_range('1/1/1948', periods=66, freq='A')\n",
      "\n",
      "d = {}\n",
      "for i, ramone in enumerate(columns):\n",
      "    if death_years[i]:\n",
      "        years = death_years[i] - birth_years[i] + 1\n",
      "    else:\n",
      "        years = 2013 - birth_years[i] + 1\n",
      "    years_alive = date_range('1/1/%i' % birth_years[i], periods=years, freq='A')\n",
      "    series = Series(1, index=years_alive)\n",
      "    d[ramone] = series\n",
      "    \n",
      "df = DataFrame(d, index=index)\n",
      "\n",
      "df"
     ],
     "language": "python",
     "metadata": {},
     "outputs": [
      {
       "html": [
        "<pre>\n",
        "&lt;class 'pandas.core.frame.DataFrame'&gt;\n",
        "DatetimeIndex: 66 entries, 1948-12-31 00:00:00 to 2013-12-31 00:00:00\n",
        "Freq: A-DEC\n",
        "Data columns (total 5 columns):\n",
        "Dee Dee    52  non-null values\n",
        "Joey       51  non-null values\n",
        "Johnny     57  non-null values\n",
        "Marky      58  non-null values\n",
        "Tommy      63  non-null values\n",
        "dtypes: float64(5)\n",
        "</pre>"
       ],
       "metadata": {},
       "output_type": "pyout",
       "prompt_number": 4,
       "text": [
        "<class 'pandas.core.frame.DataFrame'>\n",
        "DatetimeIndex: 66 entries, 1948-12-31 00:00:00 to 2013-12-31 00:00:00\n",
        "Freq: A-DEC\n",
        "Data columns (total 5 columns):\n",
        "Dee Dee    52  non-null values\n",
        "Joey       51  non-null values\n",
        "Johnny     57  non-null values\n",
        "Marky      58  non-null values\n",
        "Tommy      63  non-null values\n",
        "dtypes: float64(5)"
       ]
      }
     ],
     "prompt_number": 4
    },
    {
     "cell_type": "code",
     "collapsed": false,
     "input": [
      "import vincent\n",
      "vincent.core.initialize_notebook()\n",
      "\n",
      "stacked = vincent.StackedArea(df)\n",
      "stacked.axis_titles(x='Year', y='Total Ramones')\n",
      "stacked.legend(title='Ramones')\n",
      "stacked.colors(brew='Spectral')\n",
      "stacked.width=600\n",
      "stacked.height=400\n",
      "stacked.display()"
     ],
     "language": "python",
     "metadata": {},
     "outputs": [
      {
       "javascript": [
        "$.getScript(\"http://d3js.org/d3.v3.min.js\", function() {\n",
        "        $.getScript(\"http://trifacta.github.com/vega/vega.js\", function() {\n",
        "            $([IPython.events]).trigger(\"vega_loaded.vincent\");\n",
        "        })\n",
        "    });"
       ],
       "metadata": {},
       "output_type": "display_data",
       "text": [
        "<IPython.core.display.Javascript at 0x38a2cd0>"
       ]
      },
      {
       "html": [
        "<div id=\"vis49542\"></div>"
       ],
       "metadata": {},
       "output_type": "display_data",
       "text": [
        "<IPython.core.display.HTML at 0x38ecdd0>"
       ]
      },
      {
       "javascript": [
        "\n",
        "( function() {\n",
        "  var _do_plot = function() {\n",
        "    if ( typeof vg == 'undefined' ) {\n",
        "      $([IPython.events]).on(\"vega_loaded.vincent\", _do_plot);\n",
        "      return;\n",
        "    }\n",
        "    vg.parse.spec({\"axes\": [{\"scale\": \"x\", \"title\": \"Year\", \"type\": \"x\"}, {\"scale\": \"y\", \"title\": \"Total Ramones\", \"type\": \"y\"}], \"data\": [{\"name\": \"table\", \"values\": [{\"col\": \"Dee Dee\", \"idx\": -662756400000, \"val\": NaN}, {\"col\": \"Joey\", \"idx\": -662756400000, \"val\": NaN}, {\"col\": \"Johnny\", \"idx\": -662756400000, \"val\": 1.0}, {\"col\": \"Marky\", \"idx\": -662756400000, \"val\": NaN}, {\"col\": \"Tommy\", \"idx\": -662756400000, \"val\": NaN}, {\"col\": \"Dee Dee\", \"idx\": -631220400000, \"val\": NaN}, {\"col\": \"Joey\", \"idx\": -631220400000, \"val\": NaN}, {\"col\": \"Johnny\", \"idx\": -631220400000, \"val\": 1.0}, {\"col\": \"Marky\", \"idx\": -631220400000, \"val\": NaN}, {\"col\": \"Tommy\", \"idx\": -631220400000, \"val\": NaN}, {\"col\": \"Dee Dee\", \"idx\": -599684400000, \"val\": NaN}, {\"col\": \"Joey\", \"idx\": -599684400000, \"val\": NaN}, {\"col\": \"Johnny\", \"idx\": -599684400000, \"val\": 1.0}, {\"col\": \"Marky\", \"idx\": -599684400000, \"val\": NaN}, {\"col\": \"Tommy\", \"idx\": -599684400000, \"val\": NaN}, {\"col\": \"Dee Dee\", \"idx\": -568148400000, \"val\": 1.0}, {\"col\": \"Joey\", \"idx\": -568148400000, \"val\": 1.0}, {\"col\": \"Johnny\", \"idx\": -568148400000, \"val\": 1.0}, {\"col\": \"Marky\", \"idx\": -568148400000, \"val\": NaN}, {\"col\": \"Tommy\", \"idx\": -568148400000, \"val\": 1.0}, {\"col\": \"Dee Dee\", \"idx\": -536526000000, \"val\": 1.0}, {\"col\": \"Joey\", \"idx\": -536526000000, \"val\": 1.0}, {\"col\": \"Johnny\", \"idx\": -536526000000, \"val\": 1.0}, {\"col\": \"Marky\", \"idx\": -536526000000, \"val\": NaN}, {\"col\": \"Tommy\", \"idx\": -536526000000, \"val\": 1.0}, {\"col\": \"Dee Dee\", \"idx\": -504990000000, \"val\": 1.0}, {\"col\": \"Joey\", \"idx\": -504990000000, \"val\": 1.0}, {\"col\": \"Johnny\", \"idx\": -504990000000, \"val\": 1.0}, {\"col\": \"Marky\", \"idx\": -504990000000, \"val\": NaN}, {\"col\": \"Tommy\", \"idx\": -504990000000, \"val\": 1.0}, {\"col\": \"Dee Dee\", \"idx\": -473454000000, \"val\": 1.0}, {\"col\": \"Joey\", \"idx\": -473454000000, \"val\": 1.0}, {\"col\": \"Johnny\", \"idx\": -473454000000, \"val\": 1.0}, {\"col\": \"Marky\", \"idx\": -473454000000, \"val\": NaN}, {\"col\": \"Tommy\", \"idx\": -473454000000, \"val\": 1.0}, {\"col\": \"Dee Dee\", \"idx\": -441918000000, \"val\": 1.0}, {\"col\": \"Joey\", \"idx\": -441918000000, \"val\": 1.0}, {\"col\": \"Johnny\", \"idx\": -441918000000, \"val\": 1.0}, {\"col\": \"Marky\", \"idx\": -441918000000, \"val\": NaN}, {\"col\": \"Tommy\", \"idx\": -441918000000, \"val\": 1.0}, {\"col\": \"Dee Dee\", \"idx\": -410295600000, \"val\": 1.0}, {\"col\": \"Joey\", \"idx\": -410295600000, \"val\": 1.0}, {\"col\": \"Johnny\", \"idx\": -410295600000, \"val\": 1.0}, {\"col\": \"Marky\", \"idx\": -410295600000, \"val\": 1.0}, {\"col\": \"Tommy\", \"idx\": -410295600000, \"val\": 1.0}, {\"col\": \"Dee Dee\", \"idx\": -378759600000, \"val\": 1.0}, {\"col\": \"Joey\", \"idx\": -378759600000, \"val\": 1.0}, {\"col\": \"Johnny\", \"idx\": -378759600000, \"val\": 1.0}, {\"col\": \"Marky\", \"idx\": -378759600000, \"val\": 1.0}, {\"col\": \"Tommy\", \"idx\": -378759600000, \"val\": 1.0}, {\"col\": \"Dee Dee\", \"idx\": -347223600000, \"val\": 1.0}, {\"col\": \"Joey\", \"idx\": -347223600000, \"val\": 1.0}, {\"col\": \"Johnny\", \"idx\": -347223600000, \"val\": 1.0}, {\"col\": \"Marky\", \"idx\": -347223600000, \"val\": 1.0}, {\"col\": \"Tommy\", \"idx\": -347223600000, \"val\": 1.0}, {\"col\": \"Dee Dee\", \"idx\": -315687600000, \"val\": 1.0}, {\"col\": \"Joey\", \"idx\": -315687600000, \"val\": 1.0}, {\"col\": \"Johnny\", \"idx\": -315687600000, \"val\": 1.0}, {\"col\": \"Marky\", \"idx\": -315687600000, \"val\": 1.0}, {\"col\": \"Tommy\", \"idx\": -315687600000, \"val\": 1.0}, {\"col\": \"Dee Dee\", \"idx\": -284065200000, \"val\": 1.0}, {\"col\": \"Joey\", \"idx\": -284065200000, \"val\": 1.0}, {\"col\": \"Johnny\", \"idx\": -284065200000, \"val\": 1.0}, {\"col\": \"Marky\", \"idx\": -284065200000, \"val\": 1.0}, {\"col\": \"Tommy\", \"idx\": -284065200000, \"val\": 1.0}, {\"col\": \"Dee Dee\", \"idx\": -252529200000, \"val\": 1.0}, {\"col\": \"Joey\", \"idx\": -252529200000, \"val\": 1.0}, {\"col\": \"Johnny\", \"idx\": -252529200000, \"val\": 1.0}, {\"col\": \"Marky\", \"idx\": -252529200000, \"val\": 1.0}, {\"col\": \"Tommy\", \"idx\": -252529200000, \"val\": 1.0}, {\"col\": \"Dee Dee\", \"idx\": -220993200000, \"val\": 1.0}, {\"col\": \"Joey\", \"idx\": -220993200000, \"val\": 1.0}, {\"col\": \"Johnny\", \"idx\": -220993200000, \"val\": 1.0}, {\"col\": \"Marky\", \"idx\": -220993200000, \"val\": 1.0}, {\"col\": \"Tommy\", \"idx\": -220993200000, \"val\": 1.0}, {\"col\": \"Dee Dee\", \"idx\": -189457200000, \"val\": 1.0}, {\"col\": \"Joey\", \"idx\": -189457200000, \"val\": 1.0}, {\"col\": \"Johnny\", \"idx\": -189457200000, \"val\": 1.0}, {\"col\": \"Marky\", \"idx\": -189457200000, \"val\": 1.0}, {\"col\": \"Tommy\", \"idx\": -189457200000, \"val\": 1.0}, {\"col\": \"Dee Dee\", \"idx\": -157834800000, \"val\": 1.0}, {\"col\": \"Joey\", \"idx\": -157834800000, \"val\": 1.0}, {\"col\": \"Johnny\", \"idx\": -157834800000, \"val\": 1.0}, {\"col\": \"Marky\", \"idx\": -157834800000, \"val\": 1.0}, {\"col\": \"Tommy\", \"idx\": -157834800000, \"val\": 1.0}, {\"col\": \"Dee Dee\", \"idx\": -126298800000, \"val\": 1.0}, {\"col\": \"Joey\", \"idx\": -126298800000, \"val\": 1.0}, {\"col\": \"Johnny\", \"idx\": -126298800000, \"val\": 1.0}, {\"col\": \"Marky\", \"idx\": -126298800000, \"val\": 1.0}, {\"col\": \"Tommy\", \"idx\": -126298800000, \"val\": 1.0}, {\"col\": \"Dee Dee\", \"idx\": -94762800000, \"val\": 1.0}, {\"col\": \"Joey\", \"idx\": -94762800000, \"val\": 1.0}, {\"col\": \"Johnny\", \"idx\": -94762800000, \"val\": 1.0}, {\"col\": \"Marky\", \"idx\": -94762800000, \"val\": 1.0}, {\"col\": \"Tommy\", \"idx\": -94762800000, \"val\": 1.0}, {\"col\": \"Dee Dee\", \"idx\": -63226800000, \"val\": 1.0}, {\"col\": \"Joey\", \"idx\": -63226800000, \"val\": 1.0}, {\"col\": \"Johnny\", \"idx\": -63226800000, \"val\": 1.0}, {\"col\": \"Marky\", \"idx\": -63226800000, \"val\": 1.0}, {\"col\": \"Tommy\", \"idx\": -63226800000, \"val\": 1.0}, {\"col\": \"Dee Dee\", \"idx\": -31604400000, \"val\": 1.0}, {\"col\": \"Joey\", \"idx\": -31604400000, \"val\": 1.0}, {\"col\": \"Johnny\", \"idx\": -31604400000, \"val\": 1.0}, {\"col\": \"Marky\", \"idx\": -31604400000, \"val\": 1.0}, {\"col\": \"Tommy\", \"idx\": -31604400000, \"val\": 1.0}, {\"col\": \"Dee Dee\", \"idx\": -68400000, \"val\": 1.0}, {\"col\": \"Joey\", \"idx\": -68400000, \"val\": 1.0}, {\"col\": \"Johnny\", \"idx\": -68400000, \"val\": 1.0}, {\"col\": \"Marky\", \"idx\": -68400000, \"val\": 1.0}, {\"col\": \"Tommy\", \"idx\": -68400000, \"val\": 1.0}, {\"col\": \"Dee Dee\", \"idx\": 31467600000, \"val\": 1.0}, {\"col\": \"Joey\", \"idx\": 31467600000, \"val\": 1.0}, {\"col\": \"Johnny\", \"idx\": 31467600000, \"val\": 1.0}, {\"col\": \"Marky\", \"idx\": 31467600000, \"val\": 1.0}, {\"col\": \"Tommy\", \"idx\": 31467600000, \"val\": 1.0}, {\"col\": \"Dee Dee\", \"idx\": 63003600000, \"val\": 1.0}, {\"col\": \"Joey\", \"idx\": 63003600000, \"val\": 1.0}, {\"col\": \"Johnny\", \"idx\": 63003600000, \"val\": 1.0}, {\"col\": \"Marky\", \"idx\": 63003600000, \"val\": 1.0}, {\"col\": \"Tommy\", \"idx\": 63003600000, \"val\": 1.0}, {\"col\": \"Dee Dee\", \"idx\": 94626000000, \"val\": 1.0}, {\"col\": \"Joey\", \"idx\": 94626000000, \"val\": 1.0}, {\"col\": \"Johnny\", \"idx\": 94626000000, \"val\": 1.0}, {\"col\": \"Marky\", \"idx\": 94626000000, \"val\": 1.0}, {\"col\": \"Tommy\", \"idx\": 94626000000, \"val\": 1.0}, {\"col\": \"Dee Dee\", \"idx\": 126162000000, \"val\": 1.0}, {\"col\": \"Joey\", \"idx\": 126162000000, \"val\": 1.0}, {\"col\": \"Johnny\", \"idx\": 126162000000, \"val\": 1.0}, {\"col\": \"Marky\", \"idx\": 126162000000, \"val\": 1.0}, {\"col\": \"Tommy\", \"idx\": 126162000000, \"val\": 1.0}, {\"col\": \"Dee Dee\", \"idx\": 157698000000, \"val\": 1.0}, {\"col\": \"Joey\", \"idx\": 157698000000, \"val\": 1.0}, {\"col\": \"Johnny\", \"idx\": 157698000000, \"val\": 1.0}, {\"col\": \"Marky\", \"idx\": 157698000000, \"val\": 1.0}, {\"col\": \"Tommy\", \"idx\": 157698000000, \"val\": 1.0}, {\"col\": \"Dee Dee\", \"idx\": 189234000000, \"val\": 1.0}, {\"col\": \"Joey\", \"idx\": 189234000000, \"val\": 1.0}, {\"col\": \"Johnny\", \"idx\": 189234000000, \"val\": 1.0}, {\"col\": \"Marky\", \"idx\": 189234000000, \"val\": 1.0}, {\"col\": \"Tommy\", \"idx\": 189234000000, \"val\": 1.0}, {\"col\": \"Dee Dee\", \"idx\": 220856400000, \"val\": 1.0}, {\"col\": \"Joey\", \"idx\": 220856400000, \"val\": 1.0}, {\"col\": \"Johnny\", \"idx\": 220856400000, \"val\": 1.0}, {\"col\": \"Marky\", \"idx\": 220856400000, \"val\": 1.0}, {\"col\": \"Tommy\", \"idx\": 220856400000, \"val\": 1.0}, {\"col\": \"Dee Dee\", \"idx\": 252392400000, \"val\": 1.0}, {\"col\": \"Joey\", \"idx\": 252392400000, \"val\": 1.0}, {\"col\": \"Johnny\", \"idx\": 252392400000, \"val\": 1.0}, {\"col\": \"Marky\", \"idx\": 252392400000, \"val\": 1.0}, {\"col\": \"Tommy\", \"idx\": 252392400000, \"val\": 1.0}, {\"col\": \"Dee Dee\", \"idx\": 283928400000, \"val\": 1.0}, {\"col\": \"Joey\", \"idx\": 283928400000, \"val\": 1.0}, {\"col\": \"Johnny\", \"idx\": 283928400000, \"val\": 1.0}, {\"col\": \"Marky\", \"idx\": 283928400000, \"val\": 1.0}, {\"col\": \"Tommy\", \"idx\": 283928400000, \"val\": 1.0}, {\"col\": \"Dee Dee\", \"idx\": 315464400000, \"val\": 1.0}, {\"col\": \"Joey\", \"idx\": 315464400000, \"val\": 1.0}, {\"col\": \"Johnny\", \"idx\": 315464400000, \"val\": 1.0}, {\"col\": \"Marky\", \"idx\": 315464400000, \"val\": 1.0}, {\"col\": \"Tommy\", \"idx\": 315464400000, \"val\": 1.0}, {\"col\": \"Dee Dee\", \"idx\": 347086800000, \"val\": 1.0}, {\"col\": \"Joey\", \"idx\": 347086800000, \"val\": 1.0}, {\"col\": \"Johnny\", \"idx\": 347086800000, \"val\": 1.0}, {\"col\": \"Marky\", \"idx\": 347086800000, \"val\": 1.0}, {\"col\": \"Tommy\", \"idx\": 347086800000, \"val\": 1.0}, {\"col\": \"Dee Dee\", \"idx\": 378622800000, \"val\": 1.0}, {\"col\": \"Joey\", \"idx\": 378622800000, \"val\": 1.0}, {\"col\": \"Johnny\", \"idx\": 378622800000, \"val\": 1.0}, {\"col\": \"Marky\", \"idx\": 378622800000, \"val\": 1.0}, {\"col\": \"Tommy\", \"idx\": 378622800000, \"val\": 1.0}, {\"col\": \"Dee Dee\", \"idx\": 410158800000, \"val\": 1.0}, {\"col\": \"Joey\", \"idx\": 410158800000, \"val\": 1.0}, {\"col\": \"Johnny\", \"idx\": 410158800000, \"val\": 1.0}, {\"col\": \"Marky\", \"idx\": 410158800000, \"val\": 1.0}, {\"col\": \"Tommy\", \"idx\": 410158800000, \"val\": 1.0}, {\"col\": \"Dee Dee\", \"idx\": 441694800000, \"val\": 1.0}, {\"col\": \"Joey\", \"idx\": 441694800000, \"val\": 1.0}, {\"col\": \"Johnny\", \"idx\": 441694800000, \"val\": 1.0}, {\"col\": \"Marky\", \"idx\": 441694800000, \"val\": 1.0}, {\"col\": \"Tommy\", \"idx\": 441694800000, \"val\": 1.0}, {\"col\": \"Dee Dee\", \"idx\": 473317200000, \"val\": 1.0}, {\"col\": \"Joey\", \"idx\": 473317200000, \"val\": 1.0}, {\"col\": \"Johnny\", \"idx\": 473317200000, \"val\": 1.0}, {\"col\": \"Marky\", \"idx\": 473317200000, \"val\": 1.0}, {\"col\": \"Tommy\", \"idx\": 473317200000, \"val\": 1.0}, {\"col\": \"Dee Dee\", \"idx\": 504853200000, \"val\": 1.0}, {\"col\": \"Joey\", \"idx\": 504853200000, \"val\": 1.0}, {\"col\": \"Johnny\", \"idx\": 504853200000, \"val\": 1.0}, {\"col\": \"Marky\", \"idx\": 504853200000, \"val\": 1.0}, {\"col\": \"Tommy\", \"idx\": 504853200000, \"val\": 1.0}, {\"col\": \"Dee Dee\", \"idx\": 536389200000, \"val\": 1.0}, {\"col\": \"Joey\", \"idx\": 536389200000, \"val\": 1.0}, {\"col\": \"Johnny\", \"idx\": 536389200000, \"val\": 1.0}, {\"col\": \"Marky\", \"idx\": 536389200000, \"val\": 1.0}, {\"col\": \"Tommy\", \"idx\": 536389200000, \"val\": 1.0}, {\"col\": \"Dee Dee\", \"idx\": 567925200000, \"val\": 1.0}, {\"col\": \"Joey\", \"idx\": 567925200000, \"val\": 1.0}, {\"col\": \"Johnny\", \"idx\": 567925200000, \"val\": 1.0}, {\"col\": \"Marky\", \"idx\": 567925200000, \"val\": 1.0}, {\"col\": \"Tommy\", \"idx\": 567925200000, \"val\": 1.0}, {\"col\": \"Dee Dee\", \"idx\": 599547600000, \"val\": 1.0}, {\"col\": \"Joey\", \"idx\": 599547600000, \"val\": 1.0}, {\"col\": \"Johnny\", \"idx\": 599547600000, \"val\": 1.0}, {\"col\": \"Marky\", \"idx\": 599547600000, \"val\": 1.0}, {\"col\": \"Tommy\", \"idx\": 599547600000, \"val\": 1.0}, {\"col\": \"Dee Dee\", \"idx\": 631083600000, \"val\": 1.0}, {\"col\": \"Joey\", \"idx\": 631083600000, \"val\": 1.0}, {\"col\": \"Johnny\", \"idx\": 631083600000, \"val\": 1.0}, {\"col\": \"Marky\", \"idx\": 631083600000, \"val\": 1.0}, {\"col\": \"Tommy\", \"idx\": 631083600000, \"val\": 1.0}, {\"col\": \"Dee Dee\", \"idx\": 662619600000, \"val\": 1.0}, {\"col\": \"Joey\", \"idx\": 662619600000, \"val\": 1.0}, {\"col\": \"Johnny\", \"idx\": 662619600000, \"val\": 1.0}, {\"col\": \"Marky\", \"idx\": 662619600000, \"val\": 1.0}, {\"col\": \"Tommy\", \"idx\": 662619600000, \"val\": 1.0}, {\"col\": \"Dee Dee\", \"idx\": 694155600000, \"val\": 1.0}, {\"col\": \"Joey\", \"idx\": 694155600000, \"val\": 1.0}, {\"col\": \"Johnny\", \"idx\": 694155600000, \"val\": 1.0}, {\"col\": \"Marky\", \"idx\": 694155600000, \"val\": 1.0}, {\"col\": \"Tommy\", \"idx\": 694155600000, \"val\": 1.0}, {\"col\": \"Dee Dee\", \"idx\": 725778000000, \"val\": 1.0}, {\"col\": \"Joey\", \"idx\": 725778000000, \"val\": 1.0}, {\"col\": \"Johnny\", \"idx\": 725778000000, \"val\": 1.0}, {\"col\": \"Marky\", \"idx\": 725778000000, \"val\": 1.0}, {\"col\": \"Tommy\", \"idx\": 725778000000, \"val\": 1.0}, {\"col\": \"Dee Dee\", \"idx\": 757314000000, \"val\": 1.0}, {\"col\": \"Joey\", \"idx\": 757314000000, \"val\": 1.0}, {\"col\": \"Johnny\", \"idx\": 757314000000, \"val\": 1.0}, {\"col\": \"Marky\", \"idx\": 757314000000, \"val\": 1.0}, {\"col\": \"Tommy\", \"idx\": 757314000000, \"val\": 1.0}, {\"col\": \"Dee Dee\", \"idx\": 788850000000, \"val\": 1.0}, {\"col\": \"Joey\", \"idx\": 788850000000, \"val\": 1.0}, {\"col\": \"Johnny\", \"idx\": 788850000000, \"val\": 1.0}, {\"col\": \"Marky\", \"idx\": 788850000000, \"val\": 1.0}, {\"col\": \"Tommy\", \"idx\": 788850000000, \"val\": 1.0}, {\"col\": \"Dee Dee\", \"idx\": 820386000000, \"val\": 1.0}, {\"col\": \"Joey\", \"idx\": 820386000000, \"val\": 1.0}, {\"col\": \"Johnny\", \"idx\": 820386000000, \"val\": 1.0}, {\"col\": \"Marky\", \"idx\": 820386000000, \"val\": 1.0}, {\"col\": \"Tommy\", \"idx\": 820386000000, \"val\": 1.0}, {\"col\": \"Dee Dee\", \"idx\": 852008400000, \"val\": 1.0}, {\"col\": \"Joey\", \"idx\": 852008400000, \"val\": 1.0}, {\"col\": \"Johnny\", \"idx\": 852008400000, \"val\": 1.0}, {\"col\": \"Marky\", \"idx\": 852008400000, \"val\": 1.0}, {\"col\": \"Tommy\", \"idx\": 852008400000, \"val\": 1.0}, {\"col\": \"Dee Dee\", \"idx\": 883544400000, \"val\": 1.0}, {\"col\": \"Joey\", \"idx\": 883544400000, \"val\": 1.0}, {\"col\": \"Johnny\", \"idx\": 883544400000, \"val\": 1.0}, {\"col\": \"Marky\", \"idx\": 883544400000, \"val\": 1.0}, {\"col\": \"Tommy\", \"idx\": 883544400000, \"val\": 1.0}, {\"col\": \"Dee Dee\", \"idx\": 915080400000, \"val\": 1.0}, {\"col\": \"Joey\", \"idx\": 915080400000, \"val\": 1.0}, {\"col\": \"Johnny\", \"idx\": 915080400000, \"val\": 1.0}, {\"col\": \"Marky\", \"idx\": 915080400000, \"val\": 1.0}, {\"col\": \"Tommy\", \"idx\": 915080400000, \"val\": 1.0}, {\"col\": \"Dee Dee\", \"idx\": 946616400000, \"val\": 1.0}, {\"col\": \"Joey\", \"idx\": 946616400000, \"val\": 1.0}, {\"col\": \"Johnny\", \"idx\": 946616400000, \"val\": 1.0}, {\"col\": \"Marky\", \"idx\": 946616400000, \"val\": 1.0}, {\"col\": \"Tommy\", \"idx\": 946616400000, \"val\": 1.0}, {\"col\": \"Dee Dee\", \"idx\": 978238800000, \"val\": 1.0}, {\"col\": \"Joey\", \"idx\": 978238800000, \"val\": 1.0}, {\"col\": \"Johnny\", \"idx\": 978238800000, \"val\": 1.0}, {\"col\": \"Marky\", \"idx\": 978238800000, \"val\": 1.0}, {\"col\": \"Tommy\", \"idx\": 978238800000, \"val\": 1.0}, {\"col\": \"Dee Dee\", \"idx\": 1009774800000, \"val\": 1.0}, {\"col\": \"Joey\", \"idx\": 1009774800000, \"val\": 1.0}, {\"col\": \"Johnny\", \"idx\": 1009774800000, \"val\": 1.0}, {\"col\": \"Marky\", \"idx\": 1009774800000, \"val\": 1.0}, {\"col\": \"Tommy\", \"idx\": 1009774800000, \"val\": 1.0}, {\"col\": \"Dee Dee\", \"idx\": 1041310800000, \"val\": 1.0}, {\"col\": \"Joey\", \"idx\": 1041310800000, \"val\": NaN}, {\"col\": \"Johnny\", \"idx\": 1041310800000, \"val\": 1.0}, {\"col\": \"Marky\", \"idx\": 1041310800000, \"val\": 1.0}, {\"col\": \"Tommy\", \"idx\": 1041310800000, \"val\": 1.0}, {\"col\": \"Dee Dee\", \"idx\": 1072846800000, \"val\": NaN}, {\"col\": \"Joey\", \"idx\": 1072846800000, \"val\": NaN}, {\"col\": \"Johnny\", \"idx\": 1072846800000, \"val\": 1.0}, {\"col\": \"Marky\", \"idx\": 1072846800000, \"val\": 1.0}, {\"col\": \"Tommy\", \"idx\": 1072846800000, \"val\": 1.0}, {\"col\": \"Dee Dee\", \"idx\": 1104469200000, \"val\": NaN}, {\"col\": \"Joey\", \"idx\": 1104469200000, \"val\": NaN}, {\"col\": \"Johnny\", \"idx\": 1104469200000, \"val\": 1.0}, {\"col\": \"Marky\", \"idx\": 1104469200000, \"val\": 1.0}, {\"col\": \"Tommy\", \"idx\": 1104469200000, \"val\": 1.0}, {\"col\": \"Dee Dee\", \"idx\": 1136005200000, \"val\": NaN}, {\"col\": \"Joey\", \"idx\": 1136005200000, \"val\": NaN}, {\"col\": \"Johnny\", \"idx\": 1136005200000, \"val\": NaN}, {\"col\": \"Marky\", \"idx\": 1136005200000, \"val\": 1.0}, {\"col\": \"Tommy\", \"idx\": 1136005200000, \"val\": 1.0}, {\"col\": \"Dee Dee\", \"idx\": 1167541200000, \"val\": NaN}, {\"col\": \"Joey\", \"idx\": 1167541200000, \"val\": NaN}, {\"col\": \"Johnny\", \"idx\": 1167541200000, \"val\": NaN}, {\"col\": \"Marky\", \"idx\": 1167541200000, \"val\": 1.0}, {\"col\": \"Tommy\", \"idx\": 1167541200000, \"val\": 1.0}, {\"col\": \"Dee Dee\", \"idx\": 1199077200000, \"val\": NaN}, {\"col\": \"Joey\", \"idx\": 1199077200000, \"val\": NaN}, {\"col\": \"Johnny\", \"idx\": 1199077200000, \"val\": NaN}, {\"col\": \"Marky\", \"idx\": 1199077200000, \"val\": 1.0}, {\"col\": \"Tommy\", \"idx\": 1199077200000, \"val\": 1.0}, {\"col\": \"Dee Dee\", \"idx\": 1230699600000, \"val\": NaN}, {\"col\": \"Joey\", \"idx\": 1230699600000, \"val\": NaN}, {\"col\": \"Johnny\", \"idx\": 1230699600000, \"val\": NaN}, {\"col\": \"Marky\", \"idx\": 1230699600000, \"val\": 1.0}, {\"col\": \"Tommy\", \"idx\": 1230699600000, \"val\": 1.0}, {\"col\": \"Dee Dee\", \"idx\": 1262235600000, \"val\": NaN}, {\"col\": \"Joey\", \"idx\": 1262235600000, \"val\": NaN}, {\"col\": \"Johnny\", \"idx\": 1262235600000, \"val\": NaN}, {\"col\": \"Marky\", \"idx\": 1262235600000, \"val\": 1.0}, {\"col\": \"Tommy\", \"idx\": 1262235600000, \"val\": 1.0}, {\"col\": \"Dee Dee\", \"idx\": 1293771600000, \"val\": NaN}, {\"col\": \"Joey\", \"idx\": 1293771600000, \"val\": NaN}, {\"col\": \"Johnny\", \"idx\": 1293771600000, \"val\": NaN}, {\"col\": \"Marky\", \"idx\": 1293771600000, \"val\": 1.0}, {\"col\": \"Tommy\", \"idx\": 1293771600000, \"val\": 1.0}, {\"col\": \"Dee Dee\", \"idx\": 1325307600000, \"val\": NaN}, {\"col\": \"Joey\", \"idx\": 1325307600000, \"val\": NaN}, {\"col\": \"Johnny\", \"idx\": 1325307600000, \"val\": NaN}, {\"col\": \"Marky\", \"idx\": 1325307600000, \"val\": 1.0}, {\"col\": \"Tommy\", \"idx\": 1325307600000, \"val\": 1.0}, {\"col\": \"Dee Dee\", \"idx\": 1356930000000, \"val\": NaN}, {\"col\": \"Joey\", \"idx\": 1356930000000, \"val\": NaN}, {\"col\": \"Johnny\", \"idx\": 1356930000000, \"val\": NaN}, {\"col\": \"Marky\", \"idx\": 1356930000000, \"val\": 1.0}, {\"col\": \"Tommy\", \"idx\": 1356930000000, \"val\": 1.0}, {\"col\": \"Dee Dee\", \"idx\": 1388466000000, \"val\": NaN}, {\"col\": \"Joey\", \"idx\": 1388466000000, \"val\": NaN}, {\"col\": \"Johnny\", \"idx\": 1388466000000, \"val\": NaN}, {\"col\": \"Marky\", \"idx\": 1388466000000, \"val\": 1.0}, {\"col\": \"Tommy\", \"idx\": 1388466000000, \"val\": 1.0}]}, {\"name\": \"stats\", \"source\": \"table\", \"transform\": [{\"keys\": [\"data.idx\"], \"type\": \"facet\"}, {\"type\": \"stats\", \"value\": \"data.val\"}]}], \"height\": 400, \"legends\": [{\"fill\": \"color\", \"offset\": 0, \"title\": \"Ramones\"}], \"marks\": [{\"from\": {\"data\": \"table\", \"transform\": [{\"keys\": [\"data.col\"], \"type\": \"facet\"}, {\"height\": \"data.val\", \"point\": \"data.idx\", \"type\": \"stack\"}]}, \"marks\": [{\"properties\": {\"enter\": {\"fill\": {\"field\": \"data.col\", \"scale\": \"color\"}, \"interpolate\": {\"value\": \"monotone\"}, \"x\": {\"field\": \"data.idx\", \"scale\": \"x\"}, \"y\": {\"field\": \"y\", \"scale\": \"y\"}, \"y2\": {\"field\": \"y2\", \"scale\": \"y\"}}}, \"type\": \"area\"}], \"type\": \"group\"}], \"padding\": {\"bottom\": 50, \"left\": 50, \"right\": 100, \"top\": 10}, \"scales\": [{\"domain\": {\"data\": \"table\", \"field\": \"data.idx\"}, \"name\": \"x\", \"range\": \"width\", \"type\": \"time\", \"zero\": false}, {\"domain\": {\"data\": \"stats\", \"field\": \"sum\"}, \"name\": \"y\", \"nice\": true, \"range\": \"height\", \"type\": \"linear\"}, {\"domain\": {\"data\": \"table\", \"field\": \"data.col\"}, \"name\": \"color\", \"range\": [\"#9e0142\", \"#d53e4f\", \"#f46d43\", \"#fdae61\", \"#fee08b\", \"#ffffbf\", \"#e6f598\", \"#abdda4\", \"#66c2a5\", \"#3288bd\", \"#5e4fa2\"], \"type\": \"ordinal\"}], \"width\": 600}, function(chart) {\n",
        "      chart({el: \"#vis49542\"}).update();\n",
        "    });\n",
        "  };\n",
        "  _do_plot();\n",
        "})();\n"
       ],
       "metadata": {},
       "output_type": "display_data",
       "text": [
        "<IPython.core.display.Javascript at 0x38ece90>"
       ]
      }
     ],
     "prompt_number": 5
    },
    {
     "cell_type": "code",
     "collapsed": false,
     "input": [],
     "language": "python",
     "metadata": {},
     "outputs": [],
     "prompt_number": 5
    }
   ],
   "metadata": {}
  }
 ]
}