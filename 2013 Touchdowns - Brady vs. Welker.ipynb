{
 "metadata": {
  "name": ""
 },
 "nbformat": 3,
 "nbformat_minor": 0,
 "worksheets": [
  {
   "cells": [
    {
     "cell_type": "markdown",
     "metadata": {},
     "source": [
      "## 2013 Touchdowns - Tom Brady (Quarterback) vs. Wes Welker (Wide Receiver)"
     ]
    },
    {
     "cell_type": "code",
     "collapsed": false,
     "input": [
      "import nflgame\n",
      "\n",
      "weeks = []\n",
      "\n",
      "for week in range(1, 6):\n",
      "    game = nflgame.games(2013, week=week)\n",
      "    weeks.append(nflgame.combine_game_stats(game))"
     ],
     "language": "python",
     "metadata": {},
     "outputs": [],
     "prompt_number": 2
    },
    {
     "cell_type": "code",
     "collapsed": false,
     "input": [
      "labels = range(1, 6)\n",
      "td_counts = []\n",
      "\n",
      "for week in weeks:\n",
      "    d = {}\n",
      "    for p in week.sort('tds'):\n",
      "        if p.name in ['T.Brady', 'W.Welker']:\n",
      "            d[p.name] = p.tds\n",
      "    if d:\n",
      "        td_counts.append(d)\n",
      "            \n",
      "td_counts"
     ],
     "language": "python",
     "metadata": {},
     "outputs": [
      {
       "metadata": {},
       "output_type": "pyout",
       "prompt_number": 3,
       "text": [
        "[{u'T.Brady': 2, u'W.Welker': 2},\n",
        " {u'T.Brady': 1, u'W.Welker': 1},\n",
        " {u'T.Brady': 2, u'W.Welker': 1},\n",
        " {u'T.Brady': 2, u'W.Welker': 2},\n",
        " {u'T.Brady': 0, u'W.Welker': 1}]"
       ]
      }
     ],
     "prompt_number": 3
    },
    {
     "cell_type": "code",
     "collapsed": false,
     "input": [
      "import pandas\n",
      "\n",
      "df = pandas.DataFrame(td_counts, index=labels)\n",
      "\n",
      "df"
     ],
     "language": "python",
     "metadata": {},
     "outputs": [
      {
       "html": [
        "<div style=\"max-height:1000px;max-width:1500px;overflow:auto;\">\n",
        "<table border=\"1\" class=\"dataframe\">\n",
        "  <thead>\n",
        "    <tr style=\"text-align: right;\">\n",
        "      <th></th>\n",
        "      <th>T.Brady</th>\n",
        "      <th>W.Welker</th>\n",
        "    </tr>\n",
        "  </thead>\n",
        "  <tbody>\n",
        "    <tr>\n",
        "      <th>1</th>\n",
        "      <td> 2</td>\n",
        "      <td> 2</td>\n",
        "    </tr>\n",
        "    <tr>\n",
        "      <th>2</th>\n",
        "      <td> 1</td>\n",
        "      <td> 1</td>\n",
        "    </tr>\n",
        "    <tr>\n",
        "      <th>3</th>\n",
        "      <td> 2</td>\n",
        "      <td> 1</td>\n",
        "    </tr>\n",
        "    <tr>\n",
        "      <th>4</th>\n",
        "      <td> 2</td>\n",
        "      <td> 2</td>\n",
        "    </tr>\n",
        "    <tr>\n",
        "      <th>5</th>\n",
        "      <td> 0</td>\n",
        "      <td> 1</td>\n",
        "    </tr>\n",
        "  </tbody>\n",
        "</table>\n",
        "</div>"
       ],
       "metadata": {},
       "output_type": "pyout",
       "prompt_number": 4,
       "text": [
        "   T.Brady  W.Welker\n",
        "1        2         2\n",
        "2        1         1\n",
        "3        2         1\n",
        "4        2         2\n",
        "5        0         1"
       ]
      }
     ],
     "prompt_number": 4
    },
    {
     "cell_type": "code",
     "collapsed": false,
     "input": [
      "import vincent\n",
      "vincent.core.initialize_notebook()\n",
      "\n",
      "line = vincent.GroupedBar(df)\n",
      "line.width = 600\n",
      "line.height = 400\n",
      "line.axis_titles(x='Week', y='Touchdowns')\n",
      "line.legend('Player')\n",
      "line.display()"
     ],
     "language": "python",
     "metadata": {},
     "outputs": [
      {
       "javascript": [
        "$.getScript(\"http://d3js.org/d3.v3.min.js\", function() {\n",
        "        $.getScript(\"http://trifacta.github.com/vega/vega.js\", function() {\n",
        "            $([IPython.events]).trigger(\"vega_loaded.vincent\");\n",
        "        })\n",
        "    });"
       ],
       "metadata": {},
       "output_type": "display_data",
       "text": [
        "<IPython.core.display.Javascript at 0x7dc6610>"
       ]
      },
      {
       "html": [
        "<div id=\"vis12069\"></div>"
       ],
       "metadata": {},
       "output_type": "display_data",
       "text": [
        "<IPython.core.display.HTML at 0x706cdd0>"
       ]
      },
      {
       "javascript": [
        "\n",
        "( function() {\n",
        "  var _do_plot = function() {\n",
        "    if ( typeof vg == 'undefined' ) {\n",
        "      $([IPython.events]).on(\"vega_loaded.vincent\", _do_plot);\n",
        "      return;\n",
        "    }\n",
        "    vg.parse.spec({\"axes\": [{\"scale\": \"x\", \"title\": \"Week\", \"type\": \"x\"}, {\"scale\": \"y\", \"title\": \"Touchdowns\", \"type\": \"y\"}], \"data\": [{\"name\": \"table\", \"values\": [{\"col\": \"T.Brady\", \"group\": 0, \"idx\": 1, \"val\": 2}, {\"col\": \"W.Welker\", \"group\": 1, \"idx\": 1, \"val\": 2}, {\"col\": \"T.Brady\", \"group\": 0, \"idx\": 2, \"val\": 1}, {\"col\": \"W.Welker\", \"group\": 1, \"idx\": 2, \"val\": 1}, {\"col\": \"T.Brady\", \"group\": 0, \"idx\": 3, \"val\": 2}, {\"col\": \"W.Welker\", \"group\": 1, \"idx\": 3, \"val\": 1}, {\"col\": \"T.Brady\", \"group\": 0, \"idx\": 4, \"val\": 2}, {\"col\": \"W.Welker\", \"group\": 1, \"idx\": 4, \"val\": 2}, {\"col\": \"T.Brady\", \"group\": 0, \"idx\": 5, \"val\": 0}, {\"col\": \"W.Welker\", \"group\": 1, \"idx\": 5, \"val\": 1}]}], \"height\": 400, \"legends\": [{\"fill\": \"color\", \"offset\": 0, \"title\": \"Player\"}], \"marks\": [{\"from\": {\"data\": \"table\", \"transform\": [{\"keys\": [\"data.idx\"], \"type\": \"facet\"}]}, \"marks\": [{\"properties\": {\"enter\": {\"fill\": {\"field\": \"data.col\", \"scale\": \"color\"}, \"width\": {\"band\": true, \"offset\": -1, \"scale\": \"pos\"}, \"x\": {\"field\": \"data.group\", \"scale\": \"pos\"}, \"y\": {\"field\": \"data.val\", \"scale\": \"y\"}, \"y2\": {\"scale\": \"y\", \"value\": 0}}}, \"type\": \"rect\"}], \"properties\": {\"enter\": {\"width\": {\"band\": true, \"scale\": \"x\"}, \"x\": {\"field\": \"key\", \"scale\": \"x\"}}}, \"scales\": [{\"domain\": {\"field\": \"data.group\"}, \"name\": \"pos\", \"range\": \"width\", \"type\": \"ordinal\"}], \"type\": \"group\"}], \"padding\": {\"bottom\": 50, \"left\": 50, \"right\": 100, \"top\": 10}, \"scales\": [{\"domain\": {\"data\": \"table\", \"field\": \"data.idx\"}, \"name\": \"x\", \"padding\": 0.2, \"range\": \"width\", \"type\": \"ordinal\"}, {\"domain\": {\"data\": \"table\", \"field\": \"data.val\"}, \"name\": \"y\", \"nice\": true, \"range\": \"height\"}, {\"domain\": {\"data\": \"table\", \"field\": \"data.col\"}, \"name\": \"color\", \"range\": \"category20\", \"type\": \"ordinal\"}], \"width\": 600}, function(chart) {\n",
        "      chart({el: \"#vis12069\"}).update();\n",
        "    });\n",
        "  };\n",
        "  _do_plot();\n",
        "})();\n"
       ],
       "metadata": {},
       "output_type": "display_data",
       "text": [
        "<IPython.core.display.Javascript at 0x706ce50>"
       ]
      }
     ],
     "prompt_number": 5
    }
   ],
   "metadata": {}
  }
 ]
}